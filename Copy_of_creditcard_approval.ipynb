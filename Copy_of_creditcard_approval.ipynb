{
  "nbformat": 4,
  "nbformat_minor": 0,
  "metadata": {
    "colab": {
      "provenance": [],
      "toc_visible": true
    },
    "kernelspec": {
      "name": "python3",
      "display_name": "Python 3"
    },
    "language_info": {
      "name": "python"
    }
  },
  "cells": [
    {
      "cell_type": "markdown",
      "source": [
        "#**Credit Card Approval Prediction**"
      ],
      "metadata": {
        "id": "VyQ9Edv-P0iH"
      }
    },
    {
      "cell_type": "markdown",
      "source": [
        "In today's fast-paced world, financial institutions receive a multitude of credit card applications daily. The process of scrutinizing these applications, considering factors like income levels, loans, and credit reports, can be laborious and prone to errors. It can be automated using Machine learning."
      ],
      "metadata": {
        "id": "bdNAN4NzjH2h"
      }
    },
    {
      "cell_type": "markdown",
      "source": [
        "I've developed an **Automatic Credit Card Approval Predictor using advanced machine learning techniques**. The primary goal is to expedite the approval process while maintaining accuracy and precision. The project incorporates a comprehensive pipeline, from exploratory data analysis to model implementation with the **accuracy of 100%**."
      ],
      "metadata": {
        "id": "zctEYWOMBgkj"
      }
    },
    {
      "cell_type": "markdown",
      "source": [
        "This technical journey spans meticulous Exploratory Data Analysis (EDA), diverse machine learning classifiers (Logistic Regression, Random Forest, Decision Tree, XGBoost), and crucial data preprocessing steps (data imputation, normalization, and segregation) and visualization using seaborn and matplotlib."
      ],
      "metadata": {
        "id": "QBZonNVsDOp5"
      }
    },
    {
      "cell_type": "markdown",
      "source": [
        "#**Exploratory Data Analysis (EDA)**"
      ],
      "metadata": {
        "id": "QC-HXS2J9qne"
      }
    },
    {
      "cell_type": "markdown",
      "source": [
        "##Libraries"
      ],
      "metadata": {
        "id": "llihEJHKpIPr"
      }
    },
    {
      "cell_type": "markdown",
      "source": [
        "We'll begin by importing the necessary libraries that we'll use for our Credit Card Approval Prediction project."
      ],
      "metadata": {
        "id": "3B7rBJXn2VlD"
      }
    },
    {
      "cell_type": "markdown",
      "source": [
        "\n",
        "\n",
        "*   pandas and numpy for data manipulation and numerical operations.\n",
        "*   matplotlib and seaborn for data visualization.\n",
        "*   train_test_split for splitting the dataset into training and testing data.\n",
        "*   MinMaxScaler for data normalization.\n",
        "*   LogisticRegression, DecisionTreeClassifier, RandomForestClassifier, and XGBClassifier for machine learning models.\n",
        "*   confusion_matrix, accuracy_score for evaluating classification accuracy metrics\n",
        "*   ConfusionMatrixDisplay for visually represent accuracy metrics\n"
      ],
      "metadata": {
        "id": "WvU5Fs9x2ZIW"
      }
    },
    {
      "cell_type": "code",
      "execution_count": 1,
      "metadata": {
        "id": "bw6zZQyOyyx4"
      },
      "outputs": [],
      "source": [
        "import pandas as pd\n",
        "import numpy as np\n",
        "import matplotlib.pyplot as plt\n",
        "import seaborn as sns\n",
        "from sklearn.model_selection import train_test_split\n",
        "from sklearn.preprocessing import MinMaxScaler\n",
        "from sklearn.linear_model import LogisticRegression\n",
        "from sklearn.ensemble import RandomForestClassifier\n",
        "from sklearn.tree import DecisionTreeClassifier\n",
        "from xgboost import XGBClassifier\n",
        "from sklearn.metrics import confusion_matrix, accuracy_score"
      ]
    },
    {
      "cell_type": "markdown",
      "source": [
        "##Data Loading"
      ],
      "metadata": {
        "id": "c2c6gdWD59ZB"
      }
    },
    {
      "cell_type": "markdown",
      "source": [
        "We load our dataset into a pandas DataFrame for analysis."
      ],
      "metadata": {
        "id": "DvRm-LdapXu4"
      }
    },
    {
      "cell_type": "code",
      "source": [
        "credit_data = pd.read_csv(\"/content/crx.data\", header = None)"
      ],
      "metadata": {
        "id": "lo5G4Gooy7tU"
      },
      "execution_count": 2,
      "outputs": []
    },
    {
      "cell_type": "markdown",
      "source": [
        "##Data Inspection"
      ],
      "metadata": {
        "id": "evxQFQpopgcf"
      }
    },
    {
      "cell_type": "markdown",
      "source": [
        "To get an initial understanding of the dataset, we'll check the first few rows using **`head()`**:"
      ],
      "metadata": {
        "id": "zDXshc92oUuj"
      }
    },
    {
      "cell_type": "code",
      "source": [
        "credit_data.head()"
      ],
      "metadata": {
        "colab": {
          "base_uri": "https://localhost:8080/",
          "height": 206
        },
        "id": "ytNpwBWuxLU8",
        "outputId": "9767ab74-11fe-4fa4-bd22-8966f6050be6"
      },
      "execution_count": 3,
      "outputs": [
        {
          "output_type": "execute_result",
          "data": {
            "text/plain": [
              "  0      1      2  3  4  5  6     7  8  9   10 11 12     13   14 15\n",
              "0  b  30.83  0.000  u  g  w  v  1.25  t  t   1  f  g  00202    0  +\n",
              "1  a  58.67  4.460  u  g  q  h  3.04  t  t   6  f  g  00043  560  +\n",
              "2  a  24.50  0.500  u  g  q  h  1.50  t  f   0  f  g  00280  824  +\n",
              "3  b  27.83  1.540  u  g  w  v  3.75  t  t   5  t  g  00100    3  +\n",
              "4  b  20.17  5.625  u  g  w  v  1.71  t  f   0  f  s  00120    0  +"
            ],
            "text/html": [
              "\n",
              "  <div id=\"df-f564238d-bf73-4706-a3a7-9a94ff1d13d0\" class=\"colab-df-container\">\n",
              "    <div>\n",
              "<style scoped>\n",
              "    .dataframe tbody tr th:only-of-type {\n",
              "        vertical-align: middle;\n",
              "    }\n",
              "\n",
              "    .dataframe tbody tr th {\n",
              "        vertical-align: top;\n",
              "    }\n",
              "\n",
              "    .dataframe thead th {\n",
              "        text-align: right;\n",
              "    }\n",
              "</style>\n",
              "<table border=\"1\" class=\"dataframe\">\n",
              "  <thead>\n",
              "    <tr style=\"text-align: right;\">\n",
              "      <th></th>\n",
              "      <th>0</th>\n",
              "      <th>1</th>\n",
              "      <th>2</th>\n",
              "      <th>3</th>\n",
              "      <th>4</th>\n",
              "      <th>5</th>\n",
              "      <th>6</th>\n",
              "      <th>7</th>\n",
              "      <th>8</th>\n",
              "      <th>9</th>\n",
              "      <th>10</th>\n",
              "      <th>11</th>\n",
              "      <th>12</th>\n",
              "      <th>13</th>\n",
              "      <th>14</th>\n",
              "      <th>15</th>\n",
              "    </tr>\n",
              "  </thead>\n",
              "  <tbody>\n",
              "    <tr>\n",
              "      <th>0</th>\n",
              "      <td>b</td>\n",
              "      <td>30.83</td>\n",
              "      <td>0.000</td>\n",
              "      <td>u</td>\n",
              "      <td>g</td>\n",
              "      <td>w</td>\n",
              "      <td>v</td>\n",
              "      <td>1.25</td>\n",
              "      <td>t</td>\n",
              "      <td>t</td>\n",
              "      <td>1</td>\n",
              "      <td>f</td>\n",
              "      <td>g</td>\n",
              "      <td>00202</td>\n",
              "      <td>0</td>\n",
              "      <td>+</td>\n",
              "    </tr>\n",
              "    <tr>\n",
              "      <th>1</th>\n",
              "      <td>a</td>\n",
              "      <td>58.67</td>\n",
              "      <td>4.460</td>\n",
              "      <td>u</td>\n",
              "      <td>g</td>\n",
              "      <td>q</td>\n",
              "      <td>h</td>\n",
              "      <td>3.04</td>\n",
              "      <td>t</td>\n",
              "      <td>t</td>\n",
              "      <td>6</td>\n",
              "      <td>f</td>\n",
              "      <td>g</td>\n",
              "      <td>00043</td>\n",
              "      <td>560</td>\n",
              "      <td>+</td>\n",
              "    </tr>\n",
              "    <tr>\n",
              "      <th>2</th>\n",
              "      <td>a</td>\n",
              "      <td>24.50</td>\n",
              "      <td>0.500</td>\n",
              "      <td>u</td>\n",
              "      <td>g</td>\n",
              "      <td>q</td>\n",
              "      <td>h</td>\n",
              "      <td>1.50</td>\n",
              "      <td>t</td>\n",
              "      <td>f</td>\n",
              "      <td>0</td>\n",
              "      <td>f</td>\n",
              "      <td>g</td>\n",
              "      <td>00280</td>\n",
              "      <td>824</td>\n",
              "      <td>+</td>\n",
              "    </tr>\n",
              "    <tr>\n",
              "      <th>3</th>\n",
              "      <td>b</td>\n",
              "      <td>27.83</td>\n",
              "      <td>1.540</td>\n",
              "      <td>u</td>\n",
              "      <td>g</td>\n",
              "      <td>w</td>\n",
              "      <td>v</td>\n",
              "      <td>3.75</td>\n",
              "      <td>t</td>\n",
              "      <td>t</td>\n",
              "      <td>5</td>\n",
              "      <td>t</td>\n",
              "      <td>g</td>\n",
              "      <td>00100</td>\n",
              "      <td>3</td>\n",
              "      <td>+</td>\n",
              "    </tr>\n",
              "    <tr>\n",
              "      <th>4</th>\n",
              "      <td>b</td>\n",
              "      <td>20.17</td>\n",
              "      <td>5.625</td>\n",
              "      <td>u</td>\n",
              "      <td>g</td>\n",
              "      <td>w</td>\n",
              "      <td>v</td>\n",
              "      <td>1.71</td>\n",
              "      <td>t</td>\n",
              "      <td>f</td>\n",
              "      <td>0</td>\n",
              "      <td>f</td>\n",
              "      <td>s</td>\n",
              "      <td>00120</td>\n",
              "      <td>0</td>\n",
              "      <td>+</td>\n",
              "    </tr>\n",
              "  </tbody>\n",
              "</table>\n",
              "</div>\n",
              "    <div class=\"colab-df-buttons\">\n",
              "\n",
              "  <div class=\"colab-df-container\">\n",
              "    <button class=\"colab-df-convert\" onclick=\"convertToInteractive('df-f564238d-bf73-4706-a3a7-9a94ff1d13d0')\"\n",
              "            title=\"Convert this dataframe to an interactive table.\"\n",
              "            style=\"display:none;\">\n",
              "\n",
              "  <svg xmlns=\"http://www.w3.org/2000/svg\" height=\"24px\" viewBox=\"0 -960 960 960\">\n",
              "    <path d=\"M120-120v-720h720v720H120Zm60-500h600v-160H180v160Zm220 220h160v-160H400v160Zm0 220h160v-160H400v160ZM180-400h160v-160H180v160Zm440 0h160v-160H620v160ZM180-180h160v-160H180v160Zm440 0h160v-160H620v160Z\"/>\n",
              "  </svg>\n",
              "    </button>\n",
              "\n",
              "  <style>\n",
              "    .colab-df-container {\n",
              "      display:flex;\n",
              "      gap: 12px;\n",
              "    }\n",
              "\n",
              "    .colab-df-convert {\n",
              "      background-color: #E8F0FE;\n",
              "      border: none;\n",
              "      border-radius: 50%;\n",
              "      cursor: pointer;\n",
              "      display: none;\n",
              "      fill: #1967D2;\n",
              "      height: 32px;\n",
              "      padding: 0 0 0 0;\n",
              "      width: 32px;\n",
              "    }\n",
              "\n",
              "    .colab-df-convert:hover {\n",
              "      background-color: #E2EBFA;\n",
              "      box-shadow: 0px 1px 2px rgba(60, 64, 67, 0.3), 0px 1px 3px 1px rgba(60, 64, 67, 0.15);\n",
              "      fill: #174EA6;\n",
              "    }\n",
              "\n",
              "    .colab-df-buttons div {\n",
              "      margin-bottom: 4px;\n",
              "    }\n",
              "\n",
              "    [theme=dark] .colab-df-convert {\n",
              "      background-color: #3B4455;\n",
              "      fill: #D2E3FC;\n",
              "    }\n",
              "\n",
              "    [theme=dark] .colab-df-convert:hover {\n",
              "      background-color: #434B5C;\n",
              "      box-shadow: 0px 1px 3px 1px rgba(0, 0, 0, 0.15);\n",
              "      filter: drop-shadow(0px 1px 2px rgba(0, 0, 0, 0.3));\n",
              "      fill: #FFFFFF;\n",
              "    }\n",
              "  </style>\n",
              "\n",
              "    <script>\n",
              "      const buttonEl =\n",
              "        document.querySelector('#df-f564238d-bf73-4706-a3a7-9a94ff1d13d0 button.colab-df-convert');\n",
              "      buttonEl.style.display =\n",
              "        google.colab.kernel.accessAllowed ? 'block' : 'none';\n",
              "\n",
              "      async function convertToInteractive(key) {\n",
              "        const element = document.querySelector('#df-f564238d-bf73-4706-a3a7-9a94ff1d13d0');\n",
              "        const dataTable =\n",
              "          await google.colab.kernel.invokeFunction('convertToInteractive',\n",
              "                                                    [key], {});\n",
              "        if (!dataTable) return;\n",
              "\n",
              "        const docLinkHtml = 'Like what you see? Visit the ' +\n",
              "          '<a target=\"_blank\" href=https://colab.research.google.com/notebooks/data_table.ipynb>data table notebook</a>'\n",
              "          + ' to learn more about interactive tables.';\n",
              "        element.innerHTML = '';\n",
              "        dataTable['output_type'] = 'display_data';\n",
              "        await google.colab.output.renderOutput(dataTable, element);\n",
              "        const docLink = document.createElement('div');\n",
              "        docLink.innerHTML = docLinkHtml;\n",
              "        element.appendChild(docLink);\n",
              "      }\n",
              "    </script>\n",
              "  </div>\n",
              "\n",
              "\n",
              "<div id=\"df-51f1de96-afd9-4fe9-8d87-0543ecad2603\">\n",
              "  <button class=\"colab-df-quickchart\" onclick=\"quickchart('df-51f1de96-afd9-4fe9-8d87-0543ecad2603')\"\n",
              "            title=\"Suggest charts\"\n",
              "            style=\"display:none;\">\n",
              "\n",
              "<svg xmlns=\"http://www.w3.org/2000/svg\" height=\"24px\"viewBox=\"0 0 24 24\"\n",
              "     width=\"24px\">\n",
              "    <g>\n",
              "        <path d=\"M19 3H5c-1.1 0-2 .9-2 2v14c0 1.1.9 2 2 2h14c1.1 0 2-.9 2-2V5c0-1.1-.9-2-2-2zM9 17H7v-7h2v7zm4 0h-2V7h2v10zm4 0h-2v-4h2v4z\"/>\n",
              "    </g>\n",
              "</svg>\n",
              "  </button>\n",
              "\n",
              "<style>\n",
              "  .colab-df-quickchart {\n",
              "      --bg-color: #E8F0FE;\n",
              "      --fill-color: #1967D2;\n",
              "      --hover-bg-color: #E2EBFA;\n",
              "      --hover-fill-color: #174EA6;\n",
              "      --disabled-fill-color: #AAA;\n",
              "      --disabled-bg-color: #DDD;\n",
              "  }\n",
              "\n",
              "  [theme=dark] .colab-df-quickchart {\n",
              "      --bg-color: #3B4455;\n",
              "      --fill-color: #D2E3FC;\n",
              "      --hover-bg-color: #434B5C;\n",
              "      --hover-fill-color: #FFFFFF;\n",
              "      --disabled-bg-color: #3B4455;\n",
              "      --disabled-fill-color: #666;\n",
              "  }\n",
              "\n",
              "  .colab-df-quickchart {\n",
              "    background-color: var(--bg-color);\n",
              "    border: none;\n",
              "    border-radius: 50%;\n",
              "    cursor: pointer;\n",
              "    display: none;\n",
              "    fill: var(--fill-color);\n",
              "    height: 32px;\n",
              "    padding: 0;\n",
              "    width: 32px;\n",
              "  }\n",
              "\n",
              "  .colab-df-quickchart:hover {\n",
              "    background-color: var(--hover-bg-color);\n",
              "    box-shadow: 0 1px 2px rgba(60, 64, 67, 0.3), 0 1px 3px 1px rgba(60, 64, 67, 0.15);\n",
              "    fill: var(--button-hover-fill-color);\n",
              "  }\n",
              "\n",
              "  .colab-df-quickchart-complete:disabled,\n",
              "  .colab-df-quickchart-complete:disabled:hover {\n",
              "    background-color: var(--disabled-bg-color);\n",
              "    fill: var(--disabled-fill-color);\n",
              "    box-shadow: none;\n",
              "  }\n",
              "\n",
              "  .colab-df-spinner {\n",
              "    border: 2px solid var(--fill-color);\n",
              "    border-color: transparent;\n",
              "    border-bottom-color: var(--fill-color);\n",
              "    animation:\n",
              "      spin 1s steps(1) infinite;\n",
              "  }\n",
              "\n",
              "  @keyframes spin {\n",
              "    0% {\n",
              "      border-color: transparent;\n",
              "      border-bottom-color: var(--fill-color);\n",
              "      border-left-color: var(--fill-color);\n",
              "    }\n",
              "    20% {\n",
              "      border-color: transparent;\n",
              "      border-left-color: var(--fill-color);\n",
              "      border-top-color: var(--fill-color);\n",
              "    }\n",
              "    30% {\n",
              "      border-color: transparent;\n",
              "      border-left-color: var(--fill-color);\n",
              "      border-top-color: var(--fill-color);\n",
              "      border-right-color: var(--fill-color);\n",
              "    }\n",
              "    40% {\n",
              "      border-color: transparent;\n",
              "      border-right-color: var(--fill-color);\n",
              "      border-top-color: var(--fill-color);\n",
              "    }\n",
              "    60% {\n",
              "      border-color: transparent;\n",
              "      border-right-color: var(--fill-color);\n",
              "    }\n",
              "    80% {\n",
              "      border-color: transparent;\n",
              "      border-right-color: var(--fill-color);\n",
              "      border-bottom-color: var(--fill-color);\n",
              "    }\n",
              "    90% {\n",
              "      border-color: transparent;\n",
              "      border-bottom-color: var(--fill-color);\n",
              "    }\n",
              "  }\n",
              "</style>\n",
              "\n",
              "  <script>\n",
              "    async function quickchart(key) {\n",
              "      const quickchartButtonEl =\n",
              "        document.querySelector('#' + key + ' button');\n",
              "      quickchartButtonEl.disabled = true;  // To prevent multiple clicks.\n",
              "      quickchartButtonEl.classList.add('colab-df-spinner');\n",
              "      try {\n",
              "        const charts = await google.colab.kernel.invokeFunction(\n",
              "            'suggestCharts', [key], {});\n",
              "      } catch (error) {\n",
              "        console.error('Error during call to suggestCharts:', error);\n",
              "      }\n",
              "      quickchartButtonEl.classList.remove('colab-df-spinner');\n",
              "      quickchartButtonEl.classList.add('colab-df-quickchart-complete');\n",
              "    }\n",
              "    (() => {\n",
              "      let quickchartButtonEl =\n",
              "        document.querySelector('#df-51f1de96-afd9-4fe9-8d87-0543ecad2603 button');\n",
              "      quickchartButtonEl.style.display =\n",
              "        google.colab.kernel.accessAllowed ? 'block' : 'none';\n",
              "    })();\n",
              "  </script>\n",
              "</div>\n",
              "    </div>\n",
              "  </div>\n"
            ]
          },
          "metadata": {},
          "execution_count": 3
        }
      ]
    },
    {
      "cell_type": "markdown",
      "source": [
        "We'll also find the number of rows and columns in the dataset:"
      ],
      "metadata": {
        "id": "deUnCgUIwmpn"
      }
    },
    {
      "cell_type": "code",
      "source": [
        "credit_data.shape"
      ],
      "metadata": {
        "colab": {
          "base_uri": "https://localhost:8080/"
        },
        "id": "ERZZjZzLwkm4",
        "outputId": "d00cc675-a87a-4a54-daeb-1ad11a1a8d7d"
      },
      "execution_count": 4,
      "outputs": [
        {
          "output_type": "execute_result",
          "data": {
            "text/plain": [
              "(690, 16)"
            ]
          },
          "metadata": {},
          "execution_count": 4
        }
      ]
    },
    {
      "cell_type": "markdown",
      "source": [
        "From the first few rows of the dataset, it seems like columns '1', '2', '7', '10', '13', and '14' are numerical and the remainings are categorical. However, we need to check the datatype of each columns. Data types of each column can be obtained using dtypes:"
      ],
      "metadata": {
        "id": "jEXwBMEYpKGB"
      }
    },
    {
      "cell_type": "code",
      "source": [
        "credit_data.dtypes"
      ],
      "metadata": {
        "colab": {
          "base_uri": "https://localhost:8080/"
        },
        "id": "C_Xy6RfjpLHI",
        "outputId": "5badbe93-bec0-4f5c-a886-ddcb2baa86ad"
      },
      "execution_count": 5,
      "outputs": [
        {
          "output_type": "execute_result",
          "data": {
            "text/plain": [
              "0      object\n",
              "1      object\n",
              "2     float64\n",
              "3      object\n",
              "4      object\n",
              "5      object\n",
              "6      object\n",
              "7     float64\n",
              "8      object\n",
              "9      object\n",
              "10      int64\n",
              "11     object\n",
              "12     object\n",
              "13     object\n",
              "14      int64\n",
              "15     object\n",
              "dtype: object"
            ]
          },
          "metadata": {},
          "execution_count": 5
        }
      ]
    },
    {
      "cell_type": "markdown",
      "source": [
        "Surprisingly, we found that only columns '2', '7', '10', and '14' are numerical."
      ],
      "metadata": {
        "id": "X7aP3MRpAccf"
      }
    },
    {
      "cell_type": "markdown",
      "source": [
        "##Data Summary"
      ],
      "metadata": {
        "id": "BOloHPsnRpgm"
      }
    },
    {
      "cell_type": "markdown",
      "source": [
        "###**Statistical Summary**"
      ],
      "metadata": {
        "id": "zVdDzbr2wkZG"
      }
    },
    {
      "cell_type": "markdown",
      "source": [
        "Lets check the summary statistics of the numerical columns in the dataset:"
      ],
      "metadata": {
        "id": "ZYLuESM1p8k2"
      }
    },
    {
      "cell_type": "code",
      "source": [
        "credit_data.describe()"
      ],
      "metadata": {
        "colab": {
          "base_uri": "https://localhost:8080/",
          "height": 300
        },
        "id": "N-KdgDwjw222",
        "outputId": "558fa568-816d-474c-be4a-f396312b3154"
      },
      "execution_count": 6,
      "outputs": [
        {
          "output_type": "execute_result",
          "data": {
            "text/plain": [
              "               2           7          10             14\n",
              "count  690.000000  690.000000  690.00000     690.000000\n",
              "mean     4.758725    2.223406    2.40000    1017.385507\n",
              "std      4.978163    3.346513    4.86294    5210.102598\n",
              "min      0.000000    0.000000    0.00000       0.000000\n",
              "25%      1.000000    0.165000    0.00000       0.000000\n",
              "50%      2.750000    1.000000    0.00000       5.000000\n",
              "75%      7.207500    2.625000    3.00000     395.500000\n",
              "max     28.000000   28.500000   67.00000  100000.000000"
            ],
            "text/html": [
              "\n",
              "  <div id=\"df-19fb37e5-e496-4000-acdf-877c9f68ba53\" class=\"colab-df-container\">\n",
              "    <div>\n",
              "<style scoped>\n",
              "    .dataframe tbody tr th:only-of-type {\n",
              "        vertical-align: middle;\n",
              "    }\n",
              "\n",
              "    .dataframe tbody tr th {\n",
              "        vertical-align: top;\n",
              "    }\n",
              "\n",
              "    .dataframe thead th {\n",
              "        text-align: right;\n",
              "    }\n",
              "</style>\n",
              "<table border=\"1\" class=\"dataframe\">\n",
              "  <thead>\n",
              "    <tr style=\"text-align: right;\">\n",
              "      <th></th>\n",
              "      <th>2</th>\n",
              "      <th>7</th>\n",
              "      <th>10</th>\n",
              "      <th>14</th>\n",
              "    </tr>\n",
              "  </thead>\n",
              "  <tbody>\n",
              "    <tr>\n",
              "      <th>count</th>\n",
              "      <td>690.000000</td>\n",
              "      <td>690.000000</td>\n",
              "      <td>690.00000</td>\n",
              "      <td>690.000000</td>\n",
              "    </tr>\n",
              "    <tr>\n",
              "      <th>mean</th>\n",
              "      <td>4.758725</td>\n",
              "      <td>2.223406</td>\n",
              "      <td>2.40000</td>\n",
              "      <td>1017.385507</td>\n",
              "    </tr>\n",
              "    <tr>\n",
              "      <th>std</th>\n",
              "      <td>4.978163</td>\n",
              "      <td>3.346513</td>\n",
              "      <td>4.86294</td>\n",
              "      <td>5210.102598</td>\n",
              "    </tr>\n",
              "    <tr>\n",
              "      <th>min</th>\n",
              "      <td>0.000000</td>\n",
              "      <td>0.000000</td>\n",
              "      <td>0.00000</td>\n",
              "      <td>0.000000</td>\n",
              "    </tr>\n",
              "    <tr>\n",
              "      <th>25%</th>\n",
              "      <td>1.000000</td>\n",
              "      <td>0.165000</td>\n",
              "      <td>0.00000</td>\n",
              "      <td>0.000000</td>\n",
              "    </tr>\n",
              "    <tr>\n",
              "      <th>50%</th>\n",
              "      <td>2.750000</td>\n",
              "      <td>1.000000</td>\n",
              "      <td>0.00000</td>\n",
              "      <td>5.000000</td>\n",
              "    </tr>\n",
              "    <tr>\n",
              "      <th>75%</th>\n",
              "      <td>7.207500</td>\n",
              "      <td>2.625000</td>\n",
              "      <td>3.00000</td>\n",
              "      <td>395.500000</td>\n",
              "    </tr>\n",
              "    <tr>\n",
              "      <th>max</th>\n",
              "      <td>28.000000</td>\n",
              "      <td>28.500000</td>\n",
              "      <td>67.00000</td>\n",
              "      <td>100000.000000</td>\n",
              "    </tr>\n",
              "  </tbody>\n",
              "</table>\n",
              "</div>\n",
              "    <div class=\"colab-df-buttons\">\n",
              "\n",
              "  <div class=\"colab-df-container\">\n",
              "    <button class=\"colab-df-convert\" onclick=\"convertToInteractive('df-19fb37e5-e496-4000-acdf-877c9f68ba53')\"\n",
              "            title=\"Convert this dataframe to an interactive table.\"\n",
              "            style=\"display:none;\">\n",
              "\n",
              "  <svg xmlns=\"http://www.w3.org/2000/svg\" height=\"24px\" viewBox=\"0 -960 960 960\">\n",
              "    <path d=\"M120-120v-720h720v720H120Zm60-500h600v-160H180v160Zm220 220h160v-160H400v160Zm0 220h160v-160H400v160ZM180-400h160v-160H180v160Zm440 0h160v-160H620v160ZM180-180h160v-160H180v160Zm440 0h160v-160H620v160Z\"/>\n",
              "  </svg>\n",
              "    </button>\n",
              "\n",
              "  <style>\n",
              "    .colab-df-container {\n",
              "      display:flex;\n",
              "      gap: 12px;\n",
              "    }\n",
              "\n",
              "    .colab-df-convert {\n",
              "      background-color: #E8F0FE;\n",
              "      border: none;\n",
              "      border-radius: 50%;\n",
              "      cursor: pointer;\n",
              "      display: none;\n",
              "      fill: #1967D2;\n",
              "      height: 32px;\n",
              "      padding: 0 0 0 0;\n",
              "      width: 32px;\n",
              "    }\n",
              "\n",
              "    .colab-df-convert:hover {\n",
              "      background-color: #E2EBFA;\n",
              "      box-shadow: 0px 1px 2px rgba(60, 64, 67, 0.3), 0px 1px 3px 1px rgba(60, 64, 67, 0.15);\n",
              "      fill: #174EA6;\n",
              "    }\n",
              "\n",
              "    .colab-df-buttons div {\n",
              "      margin-bottom: 4px;\n",
              "    }\n",
              "\n",
              "    [theme=dark] .colab-df-convert {\n",
              "      background-color: #3B4455;\n",
              "      fill: #D2E3FC;\n",
              "    }\n",
              "\n",
              "    [theme=dark] .colab-df-convert:hover {\n",
              "      background-color: #434B5C;\n",
              "      box-shadow: 0px 1px 3px 1px rgba(0, 0, 0, 0.15);\n",
              "      filter: drop-shadow(0px 1px 2px rgba(0, 0, 0, 0.3));\n",
              "      fill: #FFFFFF;\n",
              "    }\n",
              "  </style>\n",
              "\n",
              "    <script>\n",
              "      const buttonEl =\n",
              "        document.querySelector('#df-19fb37e5-e496-4000-acdf-877c9f68ba53 button.colab-df-convert');\n",
              "      buttonEl.style.display =\n",
              "        google.colab.kernel.accessAllowed ? 'block' : 'none';\n",
              "\n",
              "      async function convertToInteractive(key) {\n",
              "        const element = document.querySelector('#df-19fb37e5-e496-4000-acdf-877c9f68ba53');\n",
              "        const dataTable =\n",
              "          await google.colab.kernel.invokeFunction('convertToInteractive',\n",
              "                                                    [key], {});\n",
              "        if (!dataTable) return;\n",
              "\n",
              "        const docLinkHtml = 'Like what you see? Visit the ' +\n",
              "          '<a target=\"_blank\" href=https://colab.research.google.com/notebooks/data_table.ipynb>data table notebook</a>'\n",
              "          + ' to learn more about interactive tables.';\n",
              "        element.innerHTML = '';\n",
              "        dataTable['output_type'] = 'display_data';\n",
              "        await google.colab.output.renderOutput(dataTable, element);\n",
              "        const docLink = document.createElement('div');\n",
              "        docLink.innerHTML = docLinkHtml;\n",
              "        element.appendChild(docLink);\n",
              "      }\n",
              "    </script>\n",
              "  </div>\n",
              "\n",
              "\n",
              "<div id=\"df-3d45049e-7cbb-4b74-a245-258d37605aa0\">\n",
              "  <button class=\"colab-df-quickchart\" onclick=\"quickchart('df-3d45049e-7cbb-4b74-a245-258d37605aa0')\"\n",
              "            title=\"Suggest charts\"\n",
              "            style=\"display:none;\">\n",
              "\n",
              "<svg xmlns=\"http://www.w3.org/2000/svg\" height=\"24px\"viewBox=\"0 0 24 24\"\n",
              "     width=\"24px\">\n",
              "    <g>\n",
              "        <path d=\"M19 3H5c-1.1 0-2 .9-2 2v14c0 1.1.9 2 2 2h14c1.1 0 2-.9 2-2V5c0-1.1-.9-2-2-2zM9 17H7v-7h2v7zm4 0h-2V7h2v10zm4 0h-2v-4h2v4z\"/>\n",
              "    </g>\n",
              "</svg>\n",
              "  </button>\n",
              "\n",
              "<style>\n",
              "  .colab-df-quickchart {\n",
              "      --bg-color: #E8F0FE;\n",
              "      --fill-color: #1967D2;\n",
              "      --hover-bg-color: #E2EBFA;\n",
              "      --hover-fill-color: #174EA6;\n",
              "      --disabled-fill-color: #AAA;\n",
              "      --disabled-bg-color: #DDD;\n",
              "  }\n",
              "\n",
              "  [theme=dark] .colab-df-quickchart {\n",
              "      --bg-color: #3B4455;\n",
              "      --fill-color: #D2E3FC;\n",
              "      --hover-bg-color: #434B5C;\n",
              "      --hover-fill-color: #FFFFFF;\n",
              "      --disabled-bg-color: #3B4455;\n",
              "      --disabled-fill-color: #666;\n",
              "  }\n",
              "\n",
              "  .colab-df-quickchart {\n",
              "    background-color: var(--bg-color);\n",
              "    border: none;\n",
              "    border-radius: 50%;\n",
              "    cursor: pointer;\n",
              "    display: none;\n",
              "    fill: var(--fill-color);\n",
              "    height: 32px;\n",
              "    padding: 0;\n",
              "    width: 32px;\n",
              "  }\n",
              "\n",
              "  .colab-df-quickchart:hover {\n",
              "    background-color: var(--hover-bg-color);\n",
              "    box-shadow: 0 1px 2px rgba(60, 64, 67, 0.3), 0 1px 3px 1px rgba(60, 64, 67, 0.15);\n",
              "    fill: var(--button-hover-fill-color);\n",
              "  }\n",
              "\n",
              "  .colab-df-quickchart-complete:disabled,\n",
              "  .colab-df-quickchart-complete:disabled:hover {\n",
              "    background-color: var(--disabled-bg-color);\n",
              "    fill: var(--disabled-fill-color);\n",
              "    box-shadow: none;\n",
              "  }\n",
              "\n",
              "  .colab-df-spinner {\n",
              "    border: 2px solid var(--fill-color);\n",
              "    border-color: transparent;\n",
              "    border-bottom-color: var(--fill-color);\n",
              "    animation:\n",
              "      spin 1s steps(1) infinite;\n",
              "  }\n",
              "\n",
              "  @keyframes spin {\n",
              "    0% {\n",
              "      border-color: transparent;\n",
              "      border-bottom-color: var(--fill-color);\n",
              "      border-left-color: var(--fill-color);\n",
              "    }\n",
              "    20% {\n",
              "      border-color: transparent;\n",
              "      border-left-color: var(--fill-color);\n",
              "      border-top-color: var(--fill-color);\n",
              "    }\n",
              "    30% {\n",
              "      border-color: transparent;\n",
              "      border-left-color: var(--fill-color);\n",
              "      border-top-color: var(--fill-color);\n",
              "      border-right-color: var(--fill-color);\n",
              "    }\n",
              "    40% {\n",
              "      border-color: transparent;\n",
              "      border-right-color: var(--fill-color);\n",
              "      border-top-color: var(--fill-color);\n",
              "    }\n",
              "    60% {\n",
              "      border-color: transparent;\n",
              "      border-right-color: var(--fill-color);\n",
              "    }\n",
              "    80% {\n",
              "      border-color: transparent;\n",
              "      border-right-color: var(--fill-color);\n",
              "      border-bottom-color: var(--fill-color);\n",
              "    }\n",
              "    90% {\n",
              "      border-color: transparent;\n",
              "      border-bottom-color: var(--fill-color);\n",
              "    }\n",
              "  }\n",
              "</style>\n",
              "\n",
              "  <script>\n",
              "    async function quickchart(key) {\n",
              "      const quickchartButtonEl =\n",
              "        document.querySelector('#' + key + ' button');\n",
              "      quickchartButtonEl.disabled = true;  // To prevent multiple clicks.\n",
              "      quickchartButtonEl.classList.add('colab-df-spinner');\n",
              "      try {\n",
              "        const charts = await google.colab.kernel.invokeFunction(\n",
              "            'suggestCharts', [key], {});\n",
              "      } catch (error) {\n",
              "        console.error('Error during call to suggestCharts:', error);\n",
              "      }\n",
              "      quickchartButtonEl.classList.remove('colab-df-spinner');\n",
              "      quickchartButtonEl.classList.add('colab-df-quickchart-complete');\n",
              "    }\n",
              "    (() => {\n",
              "      let quickchartButtonEl =\n",
              "        document.querySelector('#df-3d45049e-7cbb-4b74-a245-258d37605aa0 button');\n",
              "      quickchartButtonEl.style.display =\n",
              "        google.colab.kernel.accessAllowed ? 'block' : 'none';\n",
              "    })();\n",
              "  </script>\n",
              "</div>\n",
              "    </div>\n",
              "  </div>\n"
            ]
          },
          "metadata": {},
          "execution_count": 6
        }
      ]
    },
    {
      "cell_type": "markdown",
      "source": [
        "###**Data Information**"
      ],
      "metadata": {
        "id": "QRQ48A7CSLQm"
      }
    },
    {
      "cell_type": "markdown",
      "source": [
        "To get data information, including non-null entries, data types, and memory usage:"
      ],
      "metadata": {
        "id": "mEtm04d6p5s-"
      }
    },
    {
      "cell_type": "code",
      "source": [
        "credit_data.info()"
      ],
      "metadata": {
        "colab": {
          "base_uri": "https://localhost:8080/"
        },
        "id": "uaijGZ6lBCUg",
        "outputId": "39c5de18-27e6-4eb2-d9b4-6ebc696ad4d6"
      },
      "execution_count": 7,
      "outputs": [
        {
          "output_type": "stream",
          "name": "stdout",
          "text": [
            "<class 'pandas.core.frame.DataFrame'>\n",
            "RangeIndex: 690 entries, 0 to 689\n",
            "Data columns (total 16 columns):\n",
            " #   Column  Non-Null Count  Dtype  \n",
            "---  ------  --------------  -----  \n",
            " 0   0       690 non-null    object \n",
            " 1   1       690 non-null    object \n",
            " 2   2       690 non-null    float64\n",
            " 3   3       690 non-null    object \n",
            " 4   4       690 non-null    object \n",
            " 5   5       690 non-null    object \n",
            " 6   6       690 non-null    object \n",
            " 7   7       690 non-null    float64\n",
            " 8   8       690 non-null    object \n",
            " 9   9       690 non-null    object \n",
            " 10  10      690 non-null    int64  \n",
            " 11  11      690 non-null    object \n",
            " 12  12      690 non-null    object \n",
            " 13  13      690 non-null    object \n",
            " 14  14      690 non-null    int64  \n",
            " 15  15      690 non-null    object \n",
            "dtypes: float64(2), int64(2), object(12)\n",
            "memory usage: 86.4+ KB\n"
          ]
        }
      ]
    },
    {
      "cell_type": "markdown",
      "source": [
        "##Data Visualization: Bar Chart"
      ],
      "metadata": {
        "id": "RM2Dl1jcSofh"
      }
    },
    {
      "cell_type": "markdown",
      "source": [
        "We'll create a bar graph using Seaborn to visualize the distribution of categorical data."
      ],
      "metadata": {
        "id": "3FOXuWt93gNQ"
      }
    },
    {
      "cell_type": "code",
      "source": [
        "# Create a bar graph using Seaborn\n",
        "target_column = credit_data.iloc[:, -1]\n",
        "\n",
        "category_names = ['Approval', 'Rejection']\n",
        "colors = [\"blue\", \"red\"]\n",
        "\n",
        "sns.countplot(x=target_column, data=credit_data, palette=colors)  # Use countplot for simplicity\n",
        "plt.xlabel('Types')\n",
        "plt.ylabel('Total Count')\n",
        "plt.title('Bar Graph of Target Variable (Reject or Accept)')\n",
        "\n",
        "# Add names for each bar on the x-axis\n",
        "plt.xticks(ticks=range(len(category_names)), labels=category_names)\n",
        "\n",
        "plt.show()"
      ],
      "metadata": {
        "colab": {
          "base_uri": "https://localhost:8080/",
          "height": 472
        },
        "id": "iApiHbauKbDr",
        "outputId": "1eb204c2-bd5e-4dfe-a593-dd4c06bf933a"
      },
      "execution_count": 8,
      "outputs": [
        {
          "output_type": "display_data",
          "data": {
            "text/plain": [
              "<Figure size 640x480 with 1 Axes>"
            ],
            "image/png": "[encoded data removed]"
          },
          "metadata": {}
        }
      ]
    },
    {
      "cell_type": "markdown",
      "source": [
        "From the chart, we observed that there are more rejections than acceptances in the dataset, but the difference is not significantly high."
      ],
      "metadata": {
        "id": "R8aqtisfSwZS"
      }
    },
    {
      "cell_type": "markdown",
      "source": [
        "##Uniqueness"
      ],
      "metadata": {
        "id": "G7SrtW0AqOrd"
      }
    },
    {
      "cell_type": "markdown",
      "source": [
        "To explore unique values in each column:"
      ],
      "metadata": {
        "id": "c9ZEf2KHTQT4"
      }
    },
    {
      "cell_type": "code",
      "source": [
        "# List unique values for each column\n",
        "unique_values_per_column = {column: credit_data[column].unique() for column in credit_data.columns}\n",
        "\n",
        "# Print the unique values for each column\n",
        "for column, values in unique_values_per_column.items():\n",
        "    print(f\"Column '{column}' has unique values:\")\n",
        "    print(values)\n"
      ],
      "metadata": {
        "colab": {
          "base_uri": "https://localhost:8080/"
        },
        "id": "ywjfpQoyB2kP",
        "outputId": "5a193aa0-737b-476b-90ad-f83caf123428"
      },
      "execution_count": 9,
      "outputs": [
        {
          "output_type": "stream",
          "name": "stdout",
          "text": [
            "Column '0' has unique values:\n",
            "['b' 'a' '?']\n",
            "Column '1' has unique values:\n",
            "['30.83' '58.67' '24.50' '27.83' '20.17' '32.08' '33.17' '22.92' '54.42'\n",
            " '42.50' '22.08' '29.92' '38.25' '48.08' '45.83' '36.67' '28.25' '23.25'\n",
            " '21.83' '19.17' '25.00' '47.75' '27.42' '41.17' '15.83' '47.00' '56.58'\n",
            " '57.42' '42.08' '29.25' '42.00' '49.50' '36.75' '22.58' '27.25' '23.00'\n",
            " '27.75' '54.58' '34.17' '28.92' '29.67' '39.58' '56.42' '54.33' '41.00'\n",
            " '31.92' '41.50' '23.92' '25.75' '26.00' '37.42' '34.92' '34.25' '23.33'\n",
            " '23.17' '44.33' '35.17' '43.25' '56.75' '31.67' '23.42' '20.42' '26.67'\n",
            " '36.00' '25.50' '19.42' '32.33' '34.83' '38.58' '44.25' '44.83' '20.67'\n",
            " '34.08' '21.67' '21.50' '49.58' '27.67' '39.83' '?' '37.17' '25.67'\n",
            " '34.00' '49.00' '62.50' '31.42' '52.33' '28.75' '28.58' '22.50' '28.50'\n",
            " '37.50' '35.25' '18.67' '54.83' '40.92' '19.75' '29.17' '24.58' '33.75'\n",
            " '25.42' '37.75' '52.50' '57.83' '20.75' '39.92' '24.75' '44.17' '23.50'\n",
            " '47.67' '22.75' '34.42' '28.42' '67.75' '47.42' '36.25' '32.67' '48.58'\n",
            " '33.58' '18.83' '26.92' '31.25' '56.50' '43.00' '22.33' '32.83' '40.33'\n",
            " '30.50' '52.83' '46.67' '58.33' '37.33' '23.08' '32.75' '68.67' '28.00'\n",
            " '44.00' '25.08' '32.00' '60.58' '40.83' '19.33' '41.33' '56.00' '49.83'\n",
            " '22.67' '27.00' '26.08' '18.42' '21.25' '57.08' '22.42' '48.75' '40.00'\n",
            " '40.58' '28.67' '33.08' '21.33' '41.75' '34.50' '48.17' '27.58' '24.08'\n",
            " '24.83' '36.33' '35.42' '71.58' '39.50' '39.33' '24.33' '60.08' '55.92'\n",
            " '53.92' '18.92' '50.08' '65.42' '17.58' '18.08' '19.67' '25.17' '33.50'\n",
            " '58.42' '26.17' '42.83' '38.17' '20.50' '48.25' '28.33' '18.75' '18.50'\n",
            " '45.00' '40.25' '41.42' '17.83' '18.17' '20.00' '52.17' '50.75' '17.08'\n",
            " '18.33' '59.67' '18.00' '37.58' '30.67' '18.58' '16.25' '21.17' '17.67'\n",
            " '16.50' '29.50' '21.75' '18.25' '35.75' '16.08' '69.17' '32.92' '16.33'\n",
            " '22.17' '57.58' '15.92' '31.75' '19.00' '17.50' '33.67' '30.17' '33.25'\n",
            " '25.25' '34.75' '47.33' '39.08' '42.75' '38.92' '62.75' '32.25' '26.75'\n",
            " '63.33' '30.75' '16.00' '19.50' '32.42' '30.25' '26.83' '16.92' '24.42'\n",
            " '39.42' '23.58' '21.42' '33.00' '26.33' '26.25' '28.17' '20.83' '43.17'\n",
            " '56.83' '15.17' '29.83' '31.00' '51.92' '69.50' '19.58' '22.25' '38.42'\n",
            " '26.58' '35.00' '29.42' '49.17' '51.83' '58.58' '53.33' '27.17' '25.92'\n",
            " '30.58' '17.25' '27.33' '36.50' '29.75' '52.42' '36.17' '34.58' '21.92'\n",
            " '36.58' '31.08' '30.42' '21.08' '17.42' '39.17' '26.50' '17.33' '23.75'\n",
            " '34.67' '74.83' '45.33' '47.25' '24.17' '39.25' '39.00' '64.08' '31.33'\n",
            " '21.00' '13.75' '46.00' '20.25' '60.92' '30.00' '22.83' '45.17' '41.58'\n",
            " '55.75' '25.33' '31.83' '33.92' '24.92' '80.25' '30.08' '48.33' '76.75'\n",
            " '51.33' '41.92' '29.58' '32.17' '51.42' '42.17' '43.08' '59.50' '65.17'\n",
            " '20.33' '48.50' '28.08' '73.42' '51.58' '38.67' '46.08' '20.08' '42.25'\n",
            " '16.17' '47.83' '22.00' '38.33' '25.58' '21.58' '36.08' '38.75' '35.58'\n",
            " '31.58' '15.75' '17.92' '30.33' '47.17' '25.83' '50.25' '36.42']\n",
            "Column '2' has unique values:\n",
            "[ 0.     4.46   0.5    1.54   5.625  4.     1.04  11.585  4.915  0.83\n",
            "  1.835  6.     6.04  10.5    4.415  0.875  5.875  0.25   8.585 11.25\n",
            "  1.     8.    14.5    6.5    0.585 13.    18.5    8.5   14.79   9.79\n",
            "  7.585  5.125 10.75   1.5    1.585 11.75   9.415  9.17  15.     1.415\n",
            " 13.915 28.     6.75   2.04   0.665  2.5    3.    11.625  4.5   12.25\n",
            " 16.165  0.79   0.835  4.25   0.375 25.125  7.5    5.     7.     5.29\n",
            "  1.165  9.75  19.     3.5    0.625  2.21  12.75  15.5    1.375  3.54\n",
            " 11.     1.75  16.5   12.     2.25   0.75  12.5    1.25   1.125  7.04\n",
            " 10.335  6.21   6.665  9.     5.5    0.54   2.75   9.5   13.5    3.75\n",
            " 16.     0.29   1.665  7.54   0.46  10.    11.5    3.04   2.     0.08\n",
            "  1.71   3.25   2.54  13.585  8.665  9.25   8.17   2.335 19.5    5.665\n",
            "  4.625  0.205  0.96   4.04   5.04   3.165  7.625 10.04  10.25   2.125\n",
            "  9.335  6.625  2.71   9.625 12.54   9.54   8.46  13.75  21.    10.125\n",
            " 25.085  0.21  21.5   11.125 11.045  1.335  0.085  1.21   0.165  5.71\n",
            "  5.415 12.625  0.58   0.415  2.415  0.335  3.125 12.125  2.875 13.665\n",
            " 26.335 10.29   1.29  22.     0.125  1.085  4.085  4.71   6.165  4.585\n",
            " 11.46  14.585  0.17   1.625  2.085  5.085  8.125  2.835  1.79   0.705\n",
            "  2.165  2.29  18.125  3.085 11.665  4.125  1.08  13.335 11.835  4.79\n",
            "  9.96   7.08  25.21   0.67   3.79  22.29   3.335  0.42   1.46   0.04\n",
            " 12.33  12.335  0.915 14.    17.75  20.     5.25   4.165 10.915  4.75\n",
            " 10.415  7.835  0.71   2.46   9.585  3.625  2.665  5.835 12.835 10.665\n",
            "  7.25  10.21   3.29  10.085  3.375]\n",
            "Column '3' has unique values:\n",
            "['u' 'y' '?' 'l']\n",
            "Column '4' has unique values:\n",
            "['g' 'p' '?' 'gg']\n",
            "Column '5' has unique values:\n",
            "['w' 'q' 'm' 'r' 'cc' 'k' 'c' 'd' 'x' 'i' 'e' 'aa' 'ff' 'j' '?']\n",
            "Column '6' has unique values:\n",
            "['v' 'h' 'bb' 'ff' 'j' 'z' '?' 'o' 'dd' 'n']\n",
            "Column '7' has unique values:\n",
            "[ 1.25   3.04   1.5    3.75   1.71   2.5    6.5    0.04   3.96   3.165\n",
            "  2.165  4.335  1.     5.     0.25   0.96   3.17   0.665  0.75   0.835\n",
            "  7.875  3.085  0.5    5.165 15.     7.     5.04   7.96   7.585  0.415\n",
            "  2.     1.835 14.415  4.5    5.335  8.625 28.5    2.625  0.125  6.04\n",
            "  3.5    0.165  0.875  1.75   0.     7.415  0.085  5.75   6.     3.\n",
            "  1.585  4.29   1.54   1.46   1.625 12.5   13.5   10.75   0.375  0.585\n",
            "  0.455  4.     8.5    9.46   2.25  10.     0.795  1.375  1.29  11.5\n",
            "  6.29  14.     0.335  1.21   7.375  7.5    3.25  13.     5.5    4.25\n",
            "  0.625  5.085  2.75   2.375  8.     1.085  2.54   4.165  1.665 11.\n",
            "  9.     1.335  1.415  1.96   2.585  5.125 15.5    0.71   5.665 18.\n",
            "  5.25   8.665  2.29  20.     2.46  13.875  2.085  4.58   2.71   2.04\n",
            "  0.29   4.75   0.46   0.21   0.54   3.335  2.335  1.165  2.415  2.79\n",
            "  4.625  1.04   6.75   1.875 16.    12.75   5.375  2.125 17.5    3.125\n",
            "  0.79   8.29 ]\n",
            "Column '8' has unique values:\n",
            "['t' 'f']\n",
            "Column '9' has unique values:\n",
            "['t' 'f']\n",
            "Column '10' has unique values:\n",
            "[ 1  6  0  5  7 10  3 17  2  9  8 15 11 12 40 23  4 20 67 14 16 13 19]\n",
            "Column '11' has unique values:\n",
            "['f' 't']\n",
            "Column '12' has unique values:\n",
            "['g' 's' 'p']\n",
            "Column '13' has unique values:\n",
            "['00202' '00043' '00280' '00100' '00120' '00360' '00164' '00080' '00180'\n",
            " '00052' '00128' '00260' '00000' '00320' '00396' '00096' '00200' '00300'\n",
            " '00145' '00500' '00168' '00434' '00583' '00030' '00240' '00070' '00455'\n",
            " '00311' '00216' '00491' '00400' '00239' '00160' '00711' '00250' '00520'\n",
            " '00515' '00420' '?' '00980' '00443' '00140' '00094' '00368' '00288'\n",
            " '00928' '00188' '00112' '00171' '00268' '00167' '00075' '00152' '00176'\n",
            " '00329' '00212' '00410' '00274' '00375' '00408' '00350' '00204' '00040'\n",
            " '00181' '00399' '00440' '00093' '00060' '00395' '00393' '00021' '00029'\n",
            " '00102' '00431' '00370' '00024' '00020' '00129' '00510' '00195' '00144'\n",
            " '00380' '00049' '00050' '00381' '00150' '00117' '00056' '00211' '00230'\n",
            " '00156' '00022' '00228' '00519' '00253' '00487' '00220' '00088' '00073'\n",
            " '00121' '00470' '00136' '00132' '00292' '00154' '00272' '00340' '00108'\n",
            " '00720' '00450' '00232' '00170' '01160' '00411' '00460' '00348' '00480'\n",
            " '00640' '00372' '00276' '00221' '00352' '00141' '00178' '00600' '00550'\n",
            " '02000' '00225' '00210' '00110' '00356' '00045' '00062' '00092' '00174'\n",
            " '00017' '00086' '00454' '00254' '00028' '00263' '00333' '00312' '00290'\n",
            " '00371' '00099' '00252' '00760' '00560' '00130' '00523' '00680' '00163'\n",
            " '00208' '00383' '00330' '00422' '00840' '00432' '00032' '00186' '00303'\n",
            " '00349' '00224' '00369' '00076' '00231' '00309' '00416' '00465' '00256']\n",
            "Column '14' has unique values:\n",
            "[     0    560    824      3  31285   1349    314   1442    200   2690\n",
            "    245   1208   1260     11  10000   5000   4000     35    713    551\n",
            "    500    300    221   2283    100     15    284   1236   5800    730\n",
            "    400  50000    456  15108   2954      2     20     27    225      1\n",
            "     38      5    130    147    210  11202   1332     50    258    567\n",
            "   1000   2510    809    610    150  51100    367    600    247    375\n",
            "    278    827   2072    582   2300   3065   2200      6   1602   2184\n",
            "   3376   2000   7544  10561    837  11177    639   2028   1065    540\n",
            "    158  15000   3000   3257   1655   1430      7    790    396    678\n",
            "   1187   6590    168   1270   1210    742   8851   7059   1704    857\n",
            "   6700   2503   9800    196     14  26726  18027     99    444   1200\n",
            "   2010     13    120     32    722     40    484    204     98   5552\n",
            "    105   2803    126      4     21    173     10     25     42 100000\n",
            "    113      8     44   2732    179     16   1062    251    228     67\n",
            "     12    122   4208   1300    112   1110   1004    286   4500   1212\n",
            "    195     87     17    184    140     18    146     22     55     70\n",
            "     60   1058    769   5200     19    316    350   3552    687   1950\n",
            "     53     41     33     80    351   2100    475    892   4607   2206\n",
            "   5860     28   1391   2279    591    960    690    234    800    990\n",
            "   2197     90    340    347    327   4071    109   1249    134   1344\n",
            "    321    948   2079   2384    458   5298    162   1583     58     59\n",
            "   1400   1465   8000   4700   1097   3290  13212   5777   5124     23\n",
            "   4159    918    768    283    108      9     68    587    141    501\n",
            "    160    390    154    117    246    237    364    537    394    750]\n",
            "Column '15' has unique values:\n",
            "['+' '-']\n"
          ]
        }
      ]
    },
    {
      "cell_type": "markdown",
      "source": [
        "We found that there are '?' values in some columns. To handle the **missing values**, we replace '?' with 'NaN':"
      ],
      "metadata": {
        "id": "UfS4hdhfLx89"
      }
    },
    {
      "cell_type": "code",
      "source": [
        "credit_data_nan_replace = credit_data.replace(\"?\", np.NaN)"
      ],
      "metadata": {
        "id": "MhG9w1UdLxyU"
      },
      "execution_count": 10,
      "outputs": []
    },
    {
      "cell_type": "markdown",
      "source": [
        "Counting the total numbers of missing values in each columns"
      ],
      "metadata": {
        "id": "IUeZ_rOqL6rW"
      }
    },
    {
      "cell_type": "code",
      "source": [
        "import matplotlib.pyplot as plt\n",
        "import seaborn as sns\n",
        "\n",
        "# Count missing values in each column\n",
        "missing_values = credit_data_nan_replace.isnull().sum()\n",
        "\n",
        "# Plotting the missing values\n",
        "plt.figure(figsize=(10, 6))\n",
        "sns.barplot(x=missing_values.index, y=missing_values.values)\n",
        "plt.xlabel('Columns of the dataset')\n",
        "plt.ylabel('Number of Missing Values')\n",
        "plt.title('Missing Values in Each Column')\n",
        "plt.xticks(rotation=45)\n",
        "plt.show()"
      ],
      "metadata": {
        "colab": {
          "base_uri": "https://localhost:8080/",
          "height": 573
        },
        "id": "tJ1VliS5L7oR",
        "outputId": "0b60a066-9d54-4094-a423-244b759d3b7a"
      },
      "execution_count": 11,
      "outputs": [
        {
          "output_type": "display_data",
          "data": {
            "text/plain": [
              "<Figure size 1000x600 with 1 Axes>"
            ],
            "image/png": "[encoded data removed]"
          },
          "metadata": {}
        }
      ]
    },
    {
      "cell_type": "markdown",
      "source": [
        "From the above bar chart, 7 columns have the missing values. Among them, three columns have around 12 missing values, 2 columns have 6 and the remaining two have 9 missing values."
      ],
      "metadata": {
        "id": "YCk_lvTyNRRH"
      }
    },
    {
      "cell_type": "markdown",
      "source": [
        "#**Data Preprocessing**"
      ],
      "metadata": {
        "id": "GxlyTK9CEVwF"
      }
    },
    {
      "cell_type": "markdown",
      "source": [
        "##**Data Split**"
      ],
      "metadata": {
        "id": "kym7E5GHpcJh"
      }
    },
    {
      "cell_type": "markdown",
      "source": [
        "We begin by splitting the dataset into training data (75%) and testing data (25%)."
      ],
      "metadata": {
        "id": "Y5IITzF_39hH"
      }
    },
    {
      "cell_type": "code",
      "source": [
        "credit_train, credit_test = train_test_split(credit_data_nan_replace, test_size= 0.25, random_state=2)"
      ],
      "metadata": {
        "id": "ToZqX68ky7wJ"
      },
      "execution_count": 12,
      "outputs": []
    },
    {
      "cell_type": "markdown",
      "source": [
        "Let's examine the shape of the training and testing datasets:"
      ],
      "metadata": {
        "id": "qVmNq-v4wdcl"
      }
    },
    {
      "cell_type": "code",
      "source": [
        "credit_train.shape, credit_test.shape"
      ],
      "metadata": {
        "colab": {
          "base_uri": "https://localhost:8080/"
        },
        "id": "42HkRXhoy7yP",
        "outputId": "ecb264d6-710f-4d71-f783-a62c6a5c3d44"
      },
      "execution_count": 13,
      "outputs": [
        {
          "output_type": "execute_result",
          "data": {
            "text/plain": [
              "((517, 16), (173, 16))"
            ]
          },
          "metadata": {},
          "execution_count": 13
        }
      ]
    },
    {
      "cell_type": "markdown",
      "source": [
        "##**Data Imputation**"
      ],
      "metadata": {
        "id": "GP-A8p_Px6e9"
      }
    },
    {
      "cell_type": "markdown",
      "source": [
        "###Imputing **Missing Value** in Numerical Columns"
      ],
      "metadata": {
        "id": "fXVokylw4J40"
      }
    },
    {
      "cell_type": "markdown",
      "source": [
        "We address missing values in numerical columns by imputing them with mean values using the fillna() function:"
      ],
      "metadata": {
        "id": "B-pe2W9FYowZ"
      }
    },
    {
      "cell_type": "code",
      "source": [
        "credit_train_imputed = credit_train.fillna(credit_train.mean())\n",
        "credit_test_imputed = credit_test.fillna(credit_test.mean())"
      ],
      "metadata": {
        "colab": {
          "base_uri": "https://localhost:8080/"
        },
        "id": "jja7HFpxxYg9",
        "outputId": "68126a86-70d5-4cfe-f538-57b81f9dd2b9"
      },
      "execution_count": 14,
      "outputs": [
        {
          "output_type": "stream",
          "name": "stderr",
          "text": [
            "<ipython-input-14-76b132f1134c>:1: FutureWarning: The default value of numeric_only in DataFrame.mean is deprecated. In a future version, it will default to False. In addition, specifying 'numeric_only=None' is deprecated. Select only valid columns or specify the value of numeric_only to silence this warning.\n",
            "  credit_train_imputed = credit_train.fillna(credit_train.mean())\n",
            "<ipython-input-14-76b132f1134c>:2: FutureWarning: The default value of numeric_only in DataFrame.mean is deprecated. In a future version, it will default to False. In addition, specifying 'numeric_only=None' is deprecated. Select only valid columns or specify the value of numeric_only to silence this warning.\n",
            "  credit_test_imputed = credit_test.fillna(credit_test.mean())\n"
          ]
        }
      ]
    },
    {
      "cell_type": "markdown",
      "source": [
        "However, a warning is raised regarding the missing argument numeric_only=True. To resolve this, we explicitly include it in the fillna() function:"
      ],
      "metadata": {
        "id": "wii8pb7PY2xU"
      }
    },
    {
      "cell_type": "code",
      "source": [
        "credit_train_imputed = credit_train.fillna(credit_train.mean(numeric_only=True))\n",
        "credit_test_imputed = credit_test.fillna(credit_test.mean(numeric_only=True))"
      ],
      "metadata": {
        "id": "54oCqIaQ74Eb"
      },
      "execution_count": 15,
      "outputs": []
    },
    {
      "cell_type": "markdown",
      "source": [
        "###Imputing **Missing Value** in Categorical Columns"
      ],
      "metadata": {
        "id": "9MgziqWd4TLZ"
      }
    },
    {
      "cell_type": "markdown",
      "source": [
        "Despite handling numerical columns, we still need to address missing values in categorical columns. These columns have the 'object' datatype. We iterate over each column and replace missing values with the most common values (mode) for each column:"
      ],
      "metadata": {
        "id": "x9xJXXs0yWgZ"
      }
    },
    {
      "cell_type": "code",
      "source": [
        "for col in credit_train_imputed.columns:\n",
        "  if credit_train_imputed[col].dtypes == \"object\":\n",
        "    credit_train_imputed = credit_train_imputed.fillna(credit_train_imputed[col].value_counts().index[0])\n",
        "    credit_test_imputed = credit_test_imputed.fillna(credit_test_imputed[col].value_counts().index[0])"
      ],
      "metadata": {
        "id": "D0GQe_ZwxYeW"
      },
      "execution_count": 16,
      "outputs": []
    },
    {
      "cell_type": "markdown",
      "source": [
        "##**One-hot Encoding**"
      ],
      "metadata": {
        "id": "rKaGmQqh4bZd"
      }
    },
    {
      "cell_type": "markdown",
      "source": [
        "To make all values numerical, we employ one-hot encoding to convert categorical values into numerical representation:"
      ],
      "metadata": {
        "id": "SxGtLAjEzQGB"
      }
    },
    {
      "cell_type": "code",
      "source": [
        "train_hot_encoding = pd.get_dummies(credit_train_imputed)\n",
        "test_hot_encoding = pd.get_dummies(credit_test_imputed)"
      ],
      "metadata": {
        "id": "WrGt-qyaxYYF"
      },
      "execution_count": 17,
      "outputs": []
    },
    {
      "cell_type": "code",
      "source": [
        "train_hot_encoding.shape, test_hot_encoding.shape"
      ],
      "metadata": {
        "colab": {
          "base_uri": "https://localhost:8080/"
        },
        "id": "YwyUVZZccoXs",
        "outputId": "ed5dc193-5687-48ba-b72b-c91ee6e6e18e"
      },
      "execution_count": 18,
      "outputs": [
        {
          "output_type": "execute_result",
          "data": {
            "text/plain": [
              "((517, 486), (173, 265))"
            ]
          },
          "metadata": {},
          "execution_count": 18
        }
      ]
    },
    {
      "cell_type": "markdown",
      "source": [
        "After one-hot encoding, it's possible that the test data features may not match those of the training data. In such cases, it's necessary to reindex the test data columns to align them with the training data:"
      ],
      "metadata": {
        "id": "GrxJjvkFz1Ru"
      }
    },
    {
      "cell_type": "code",
      "source": [
        "test_hot_encoding = test_hot_encoding.reindex(columns=train_hot_encoding.columns, fill_value=0)\n",
        "test_hot_encoding.shape"
      ],
      "metadata": {
        "id": "1QI5YQFPxYVw",
        "colab": {
          "base_uri": "https://localhost:8080/"
        },
        "outputId": "a196a014-94d9-4362-bf94-1d429434d777"
      },
      "execution_count": 19,
      "outputs": [
        {
          "output_type": "execute_result",
          "data": {
            "text/plain": [
              "(173, 486)"
            ]
          },
          "metadata": {},
          "execution_count": 19
        }
      ]
    },
    {
      "cell_type": "markdown",
      "source": [
        "##**Segregating the feature variables and the target variable**"
      ],
      "metadata": {
        "id": "kwIhNhul4lN3"
      }
    },
    {
      "cell_type": "markdown",
      "source": [
        "In the dataset, the last column represents the target variable, while the remaining 15 columns are feature variables. Thus, we segregate the features and the labels:"
      ],
      "metadata": {
        "id": "X3gjJ9--18Oi"
      }
    },
    {
      "cell_type": "code",
      "source": [
        "X_train, y_train = (train_hot_encoding.iloc[:, :-1].values, train_hot_encoding.iloc[:, [-1]].values)\n",
        "X_test, y_test = (test_hot_encoding.iloc[:, :-1].values, test_hot_encoding.iloc[:, [-1]].values)"
      ],
      "metadata": {
        "id": "RHCLwVAnxYTa"
      },
      "execution_count": 20,
      "outputs": []
    },
    {
      "cell_type": "markdown",
      "source": [
        "Lets check the shape feature variables and target variables in training and test data."
      ],
      "metadata": {
        "id": "DBew6HrndRdS"
      }
    },
    {
      "cell_type": "code",
      "source": [
        "X_train.shape, X_test.shape, y_train.shape, y_test.shape"
      ],
      "metadata": {
        "colab": {
          "base_uri": "https://localhost:8080/"
        },
        "id": "z0WJCusNxYRV",
        "outputId": "a2a2932f-87a6-4240-aa69-27eb4a9cd11b"
      },
      "execution_count": 21,
      "outputs": [
        {
          "output_type": "execute_result",
          "data": {
            "text/plain": [
              "((517, 485), (173, 485), (517, 1), (173, 1))"
            ]
          },
          "metadata": {},
          "execution_count": 21
        }
      ]
    },
    {
      "cell_type": "markdown",
      "source": [
        "We noticed that the shape of the target (label) variables is 2-dimensional. To resolve this, we change them to 1D using the ravel() function:"
      ],
      "metadata": {
        "id": "NIBq7Yb4dvTB"
      }
    },
    {
      "cell_type": "code",
      "source": [
        "y_train = np.array(y_train).ravel()\n",
        "y_test = np.array(y_test).ravel()"
      ],
      "metadata": {
        "id": "g85I32yw5-6X"
      },
      "execution_count": 22,
      "outputs": []
    },
    {
      "cell_type": "markdown",
      "source": [
        "##**Data Normalization**"
      ],
      "metadata": {
        "id": "tSNL_6AXd42j"
      }
    },
    {
      "cell_type": "markdown",
      "source": [
        "We implemented four different models using LogisticRegression, RandomForestClassifier, DecisionTreeClassifier, and XGBClassifier. The accuracy for LogisticRegression and RandomForestClassifier improved with data normalization. Other classifiers achieved 100% accuracy even without normalizing the data."
      ],
      "metadata": {
        "id": "ZyyGr2xEfv6x"
      }
    },
    {
      "cell_type": "code",
      "source": [
        "scaler = MinMaxScaler(feature_range=(0,1))\n",
        "rescaledX_train = scaler.fit_transform(X_train)\n",
        "rescaledX_test = scaler.transform(X_test)"
      ],
      "metadata": {
        "id": "U1yvSRnu3aTX"
      },
      "execution_count": 23,
      "outputs": []
    },
    {
      "cell_type": "markdown",
      "source": [
        "#**Building Machine Learning Models**"
      ],
      "metadata": {
        "id": "Vt9-kK8Qox3E"
      }
    },
    {
      "cell_type": "markdown",
      "source": [
        "## **Logistic Regression Model**"
      ],
      "metadata": {
        "id": "lz2aJDvHgh-I"
      }
    },
    {
      "cell_type": "markdown",
      "source": [
        "###Before normalizing data"
      ],
      "metadata": {
        "id": "y7MmFXaogrGW"
      }
    },
    {
      "cell_type": "markdown",
      "source": [
        "In this section, we train a Logistic Regression model using the original (non-normalized) data:"
      ],
      "metadata": {
        "id": "2j5Izscc62wk"
      }
    },
    {
      "cell_type": "code",
      "source": [
        "# Create an Logistic Regression model\n",
        "logicalRegressionModel = LogisticRegression()\n",
        "\n",
        "# Train the model\n",
        "logicalRegressionModel.fit(X_train, y_train)\n",
        "\n",
        "# Predictions on training and test sets\n",
        "train_predict = logicalRegressionModel.predict(X_train)\n",
        "test_predict = logicalRegressionModel.predict(X_test)\n",
        "\n",
        "# Calculate accuracy scores\n",
        "test_accuracy = accuracy_score(y_test, test_predict)\n",
        "train_accuracy = accuracy_score(y_train, train_predict)\n",
        "\n",
        "# Generate confusion matrix\n",
        "confusion_matrix_result = confusion_matrix(y_test, test_predict)\n",
        "\n",
        "# Plot Confusion Matrix\n",
        "plt.figure(figsize=(8, 6))\n",
        "sns.heatmap(confusion_matrix_result, annot=True, fmt=\"d\", cmap=\"Blues\", linewidths=.5)\n",
        "plt.title('Confusion Matrix')\n",
        "plt.xlabel('Predicted')\n",
        "plt.ylabel('True')\n",
        "plt.show()\n",
        "\n",
        "# Display accuracy scores\n",
        "print(\"Accuracy: \\n Train Score: \", train_accuracy*100, \"% and Test Score: \", test_accuracy*100, \"%\")"
      ],
      "metadata": {
        "colab": {
          "base_uri": "https://localhost:8080/",
          "height": 743
        },
        "id": "h1pDr3I05uNW",
        "outputId": "f86c6704-1acc-4adb-9be1-16ba89147e9a"
      },
      "execution_count": 24,
      "outputs": [
        {
          "output_type": "stream",
          "name": "stderr",
          "text": [
            "/usr/local/lib/python3.10/dist-packages/sklearn/linear_model/_logistic.py:458: ConvergenceWarning: lbfgs failed to converge (status=1):\n",
            "STOP: TOTAL NO. of ITERATIONS REACHED LIMIT.\n",
            "\n",
            "Increase the number of iterations (max_iter) or scale the data as shown in:\n",
            "    https://scikit-learn.org/stable/modules/preprocessing.html\n",
            "Please also refer to the documentation for alternative solver options:\n",
            "    https://scikit-learn.org/stable/modules/linear_model.html#logistic-regression\n",
            "  n_iter_i = _check_optimize_result(\n"
          ]
        },
        {
          "output_type": "display_data",
          "data": {
            "text/plain": [
              "<Figure size 800x600 with 2 Axes>"
            ],
            "image/png": "[encoded data removed]"
          },
          "metadata": {}
        },
        {
          "output_type": "stream",
          "name": "stdout",
          "text": [
            "Accuracy: \n",
            " Train Score:  91.87620889748548 % and Test Score:  92.48554913294798 %\n"
          ]
        }
      ]
    },
    {
      "cell_type": "markdown",
      "source": [
        "###After the normalizing the data"
      ],
      "metadata": {
        "id": "KEDuCgNKgwFE"
      }
    },
    {
      "cell_type": "markdown",
      "source": [
        "Next, we retrain the Logistic Regression model after normalizing the data:"
      ],
      "metadata": {
        "id": "mkpYzqF766_9"
      }
    },
    {
      "cell_type": "code",
      "source": [
        "# Create an Logistic Regression model\n",
        "logicalreg = LogisticRegression()\n",
        "\n",
        "# Train the model\n",
        "logicalreg.fit(rescaledX_train, y_train)\n",
        "\n",
        "# Predictions on training and test sets\n",
        "train_predict = logicalreg.predict(rescaledX_train)\n",
        "test_predict = logicalreg.predict(rescaledX_test)\n",
        "\n",
        "# Calculate accuracy scores\n",
        "test_accuracy = accuracy_score(y_test, test_predict)\n",
        "train_accuracy = accuracy_score(y_train, train_predict)\n",
        "\n",
        "# Generate confusion matrix\n",
        "confusion_matrix_result = confusion_matrix(y_test, test_predict)\n",
        "\n",
        "# Plot Confusion Matrix\n",
        "plt.figure(figsize=(8, 6))\n",
        "sns.heatmap(confusion_matrix_result, annot=True, fmt=\"d\", cmap=\"Blues\", linewidths=.5)\n",
        "plt.title('Confusion Matrix')\n",
        "plt.xlabel('Predicted')\n",
        "plt.ylabel('True')\n",
        "plt.show()\n",
        "\n",
        "# Display accuracy scores\n",
        "print(\"Accuracy: \\n Train Score: \", train_accuracy*100, \"% and Test Score: \", test_accuracy*100, \"%\")"
      ],
      "metadata": {
        "colab": {
          "base_uri": "https://localhost:8080/",
          "height": 600
        },
        "id": "dL86Yltvgz7t",
        "outputId": "484effc3-62d8-446d-9b05-5f9ed66bbc8c"
      },
      "execution_count": 25,
      "outputs": [
        {
          "output_type": "display_data",
          "data": {
            "text/plain": [
              "<Figure size 800x600 with 2 Axes>"
            ],
            "image/png": "[encoded data removed]"
          },
          "metadata": {}
        },
        {
          "output_type": "stream",
          "name": "stdout",
          "text": [
            "Accuracy: \n",
            " Train Score:  100.0 % and Test Score:  100.0 %\n"
          ]
        }
      ]
    },
    {
      "cell_type": "markdown",
      "source": [
        "##**Random Forest Clasifier Model**"
      ],
      "metadata": {
        "id": "0hAjBV9xg6u8"
      }
    },
    {
      "cell_type": "markdown",
      "source": [
        "###Before normalizing data"
      ],
      "metadata": {
        "id": "yaGLGRxqg_t7"
      }
    },
    {
      "cell_type": "markdown",
      "source": [
        "Now, let's explore the Random Forest Classifier model before normalizing the data:"
      ],
      "metadata": {
        "id": "mE7M1_Vc7BGn"
      }
    },
    {
      "cell_type": "code",
      "source": [
        "# Create an Random Forest Classifier model\n",
        "RFModel = RandomForestClassifier()\n",
        "\n",
        "# Train the model\n",
        "RFModel.fit(X_train, y_train)\n",
        "\n",
        "# Predictions on the training and test sets\n",
        "train_predict = RFModel.predict(X_train)\n",
        "test_predict = RFModel.predict(X_test)\n",
        "\n",
        "# Calculate accuracy scores\n",
        "test_accuracy = accuracy_score(y_test, test_predict)\n",
        "train_accuracy = accuracy_score(y_train, train_predict)\n",
        "\n",
        "# Generate confusion matrix\n",
        "confusion_matrix_result = confusion_matrix(y_test, test_predict)\n",
        "\n",
        "# Plot Confusion Matrix\n",
        "plt.figure(figsize=(8, 6))\n",
        "sns.heatmap(confusion_matrix_result, annot=True, fmt=\"d\", cmap=\"Blues\", linewidths=.5)\n",
        "plt.title('Confusion Matrix')\n",
        "plt.xlabel('Predicted')\n",
        "plt.ylabel('True')\n",
        "plt.show()\n",
        "\n",
        "# Display accuracy scores\n",
        "print(\"Accuracy: \\n Train Score: \", train_accuracy*100, \"% and Test Score: \", test_accuracy*100, \"%\")"
      ],
      "metadata": {
        "colab": {
          "base_uri": "https://localhost:8080/",
          "height": 600
        },
        "id": "YEks5FZ8rYwP",
        "outputId": "ea8b9fb3-a2b6-44ea-9803-566286af3ce7"
      },
      "execution_count": 26,
      "outputs": [
        {
          "output_type": "display_data",
          "data": {
            "text/plain": [
              "<Figure size 800x600 with 2 Axes>"
            ],
            "image/png": "[encoded data removed]"
          },
          "metadata": {}
        },
        {
          "output_type": "stream",
          "name": "stdout",
          "text": [
            "Accuracy: \n",
            " Train Score:  100.0 % and Test Score:  98.26589595375722 %\n"
          ]
        }
      ]
    },
    {
      "cell_type": "markdown",
      "source": [
        "###After Normalizing data"
      ],
      "metadata": {
        "id": "Io0yZEEIhDMI"
      }
    },
    {
      "cell_type": "markdown",
      "source": [
        "Following that, we reevaluate the Random Forest Classifier model after normalizing the data:"
      ],
      "metadata": {
        "id": "9FFn3LLZ7EcW"
      }
    },
    {
      "cell_type": "code",
      "source": [
        "# Create and train a RandomForestClassifier using the rescaled training data\n",
        "RFModel = RandomForestClassifier()\n",
        "RFModel.fit(rescaledX_train, y_train)\n",
        "\n",
        "# Predictions on training and test sets\n",
        "train_predict = RFModel.predict(rescaledX_train)\n",
        "test_predict = RFModel.predict(rescaledX_test)\n",
        "\n",
        "# Calculate accuracy scores\n",
        "test_accuracy = accuracy_score(y_test, test_predict)\n",
        "train_accuracy = accuracy_score(y_train, train_predict)\n",
        "\n",
        "# Generate confusion matrix\n",
        "confusion_matrix_result = confusion_matrix(y_test, test_predict)\n",
        "\n",
        "# Plot Confusion Matrix\n",
        "plt.figure(figsize=(8, 6))\n",
        "sns.heatmap(confusion_matrix_result, annot=True, fmt=\"d\", cmap=\"Blues\", linewidths=.5)\n",
        "plt.title('Confusion Matrix')\n",
        "plt.xlabel('Predicted')\n",
        "plt.ylabel('True')\n",
        "plt.show()\n",
        "\n",
        "# Display accuracy scores\n",
        "print(\"Accuracy: \\n Train Score: \", train_accuracy*100, \"% and Test Score: \", test_accuracy*100, \"%\")"
      ],
      "metadata": {
        "colab": {
          "base_uri": "https://localhost:8080/",
          "height": 600
        },
        "id": "h3pBvBQ_hFW7",
        "outputId": "304e0a90-0259-4eca-b176-f40cfbe1c349"
      },
      "execution_count": 27,
      "outputs": [
        {
          "output_type": "display_data",
          "data": {
            "text/plain": [
              "<Figure size 800x600 with 2 Axes>"
            ],
            "image/png": "[encoded data removed]"
          },
          "metadata": {}
        },
        {
          "output_type": "stream",
          "name": "stdout",
          "text": [
            "Accuracy: \n",
            " Train Score:  100.0 % and Test Score:  99.42196531791907 %\n"
          ]
        }
      ]
    },
    {
      "cell_type": "code",
      "source": [],
      "metadata": {
        "id": "7IGjSWbs_UxP"
      },
      "execution_count": 27,
      "outputs": []
    },
    {
      "cell_type": "markdown",
      "source": [
        "##**Decision Tree Classifier**"
      ],
      "metadata": {
        "id": "04WVkQWnhT9k"
      }
    },
    {
      "cell_type": "markdown",
      "source": [
        "Now, let's move on to the Decision Tree Classifier:"
      ],
      "metadata": {
        "id": "mOnKhgYz7LBE"
      }
    },
    {
      "cell_type": "code",
      "source": [
        "# Create an Decision Tree Classifier model\n",
        "DTModel = DecisionTreeClassifier()\n",
        "\n",
        "# Train the model\n",
        "DTModel.fit(X_train, y_train)\n",
        "\n",
        "# Predictions on the training and test sets\n",
        "train_predict = DTModel.predict(X_train)\n",
        "test_predict = DTModel.predict(X_test)\n",
        "\n",
        "# Calculate accuracy scores\n",
        "test_accuracy = accuracy_score(y_test, test_predict)\n",
        "train_accuracy = accuracy_score(y_train, train_predict)\n",
        "\n",
        "# Generate confusion matrix\n",
        "confusion_matrix_result = confusion_matrix(y_test, test_predict)\n",
        "\n",
        "# Plot Confusion Matrix\n",
        "plt.figure(figsize=(8, 6))\n",
        "sns.heatmap(confusion_matrix_result, annot=True, fmt=\"d\", cmap=\"Blues\", linewidths=.5)\n",
        "plt.title('Confusion Matrix')\n",
        "plt.xlabel('Predicted')\n",
        "plt.ylabel('True')\n",
        "plt.show()\n",
        "\n",
        "# Display accuracy scores\n",
        "print(\"Accuracy: \\n Train Score: \", train_accuracy*100, \"% and Test Score: \", test_accuracy*100, \"%\")"
      ],
      "metadata": {
        "colab": {
          "base_uri": "https://localhost:8080/",
          "height": 600
        },
        "id": "ScKRkJVZq2k7",
        "outputId": "bfdab0c5-3329-4ad9-d770-086e01417083"
      },
      "execution_count": 28,
      "outputs": [
        {
          "output_type": "display_data",
          "data": {
            "text/plain": [
              "<Figure size 800x600 with 2 Axes>"
            ],
            "image/png": "[encoded data removed]"
          },
          "metadata": {}
        },
        {
          "output_type": "stream",
          "name": "stdout",
          "text": [
            "Accuracy: \n",
            " Train Score:  100.0 % and Test Score:  100.0 %\n"
          ]
        }
      ]
    },
    {
      "cell_type": "markdown",
      "source": [
        "##**Model using XGBClassifier**"
      ],
      "metadata": {
        "id": "m3lT6Xk25vY8"
      }
    },
    {
      "cell_type": "markdown",
      "source": [
        "Lastly, we examine the model using XGBClassifier:"
      ],
      "metadata": {
        "id": "PDh3mGOW7Nfn"
      }
    },
    {
      "cell_type": "code",
      "source": [
        "# Create an XGBoost Classifier model\n",
        "XG_model = XGBClassifier()\n",
        "\n",
        "# Train the model\n",
        "XG_model.fit(X_train, y_train)\n",
        "\n",
        "# Predictions on the training and test sets\n",
        "train_predict = XG_model.predict(X_train)\n",
        "test_predict = XG_model.predict(X_test)\n",
        "\n",
        "# Calculate accuracy scores\n",
        "test_accuracy = accuracy_score(y_test, test_predict)\n",
        "train_accuracy = accuracy_score(y_train, train_predict)\n",
        "\n",
        "# Generate confusion matrix\n",
        "confusion_matrix_result = confusion_matrix(y_test, test_predict)\n",
        "\n",
        "# Plot Confusion Matrix\n",
        "plt.figure(figsize=(8, 6))\n",
        "sns.heatmap(confusion_matrix_result, annot=True, fmt=\"d\", cmap=\"Blues\", linewidths=.5)\n",
        "plt.title('Confusion Matrix')\n",
        "plt.xlabel('Predicted')\n",
        "plt.ylabel('True')\n",
        "plt.show()\n",
        "\n",
        "# Display accuracy scores\n",
        "print(\"Accuracy: \\n Train Score: \", train_accuracy*100, \"% and Test Score: \", test_accuracy*100, \"%\")"
      ],
      "metadata": {
        "colab": {
          "base_uri": "https://localhost:8080/",
          "height": 600
        },
        "id": "rjy3Ciwq5vOx",
        "outputId": "4cb3ff43-a0ff-43fb-ddfc-fcddea6e6526"
      },
      "execution_count": 29,
      "outputs": [
        {
          "output_type": "display_data",
          "data": {
            "text/plain": [
              "<Figure size 800x600 with 2 Axes>"
            ],
            "image/png": "[encoded data removed]"
          },
          "metadata": {}
        },
        {
          "output_type": "stream",
          "name": "stdout",
          "text": [
            "Accuracy: \n",
            " Train Score:  100.0 % and Test Score:  100.0 %\n"
          ]
        }
      ]
    },
    {
      "cell_type": "markdown",
      "source": [
        "#**Conclusion**"
      ],
      "metadata": {
        "id": "2262-unJB2RJ"
      }
    },
    {
      "cell_type": "markdown",
      "source": [
        "By combining meticulous exploratory data analysis, data preprocessing, and robust machine learning models, this project got the 100% accurate credit card approval model with the XGBClassifier, DecisionTreeClassifier and LogisticRegression (with normalized data). The automation not only saves time but also enhances accuracy, paving the way for more efficient decision-making in the financial domain."
      ],
      "metadata": {
        "id": "E_m1wqjhB8Kv"
      }
    }
  ]
}